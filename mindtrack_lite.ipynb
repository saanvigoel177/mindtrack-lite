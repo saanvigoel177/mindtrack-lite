{
 "cells": [
  {
   "cell_type": "code",
   "execution_count": null,
   "id": "579da63b-c8b4-45ee-a6e7-43f3b53da218",
   "metadata": {},
   "outputs": [],
   "source": [
    "!pip install tensorflow tensorflow-hub tensorflow-text ipywidgets\n"
   ]
  },
  {
   "cell_type": "code",
   "execution_count": null,
   "id": "a2e3e6dd-9245-4e3d-b873-8cc4153f7a4a",
   "metadata": {},
   "outputs": [],
   "source": [
    "import tensorflow_hub as hub\n",
    "import tensorflow_text  # Needed for the USE model\n",
    "import tensorflow as tf\n",
    "import ipywidgets as widgets\n",
    "from IPython.display import display, Markdown\n"
   ]
  },
  {
   "cell_type": "code",
   "execution_count": null,
   "id": "199d9f0b-0c2a-4b2c-9c53-1d5ae90be0b8",
   "metadata": {},
   "outputs": [],
   "source": [
    "model = hub.load(\"https://tfhub.dev/google/universal-sentence-encoder/4\")\n"
   ]
  },
  {
   "cell_type": "code",
   "execution_count": null,
   "id": "70fcf8fa-5c5b-4fb4-81d3-cd8de93bb423",
   "metadata": {},
   "outputs": [],
   "source": [
    "def is_stressed(user_text, reference=\"I'm feeling very stressed and overwhelmed with school.\"):\n",
    "    user_emb = model([user_text])[0]\n",
    "    ref_emb = model([reference])[0]\n",
    "    similarity = tf.keras.losses.cosine_similarity(user_emb, ref_emb).numpy()\n",
    "    return similarity"
   ]
  },
  {
   "cell_type": "code",
   "execution_count": null,
   "id": "8381d777-7710-4b54-bbb1-17264d9a95e5",
   "metadata": {},
   "outputs": [],
   "source": [
    "text_input = widgets.Textarea(\n",
    "    value='',\n",
    "    placeholder='Write your journal entry here...',\n",
    "    description='Your Entry:',\n",
    "    layout=widgets.Layout(width='600px', height='100px')\n",
    ")\n",
    "\n",
    "button = widgets.Button(description=\"Analyze\", button_style='primary')\n",
    "output = widgets.Output()\n"
   ]
  },
  {
   "cell_type": "code",
   "execution_count": null,
   "id": "623704b0-c251-422a-aec3-21fae9b18c54",
   "metadata": {},
   "outputs": [],
   "source": [
    "def analyze_sentiment(b):\n",
    "    with output:\n",
    "        output.clear_output()\n",
    "        user_text = text_input.value.strip()\n",
    "        if not user_text:\n",
    "            display(Markdown(\"⚠️ **Please enter some text to analyze.**\"))\n",
    "            return\n",
    "        score = is_stressed(user_text)\n",
    "        if score < -0.5:\n",
    "            display(Markdown(\"### ⚠️ **This may indicate stress or burnout.**\"))\n",
    "        else:\n",
    "            display(Markdown(\"### ✅ **This seems like a positive or neutral entry.**\"))\n",
    "\n",
    "button.on_click(analyze_sentiment)\n",
    "\n",
    "# Display UI\n",
    "display(Markdown(\"## 🧠 MindTrack Lite – Academic Stress Detector\"))\n",
    "display(text_input)\n",
    "display(button)\n",
    "display(output)\n"
   ]
  }
 ],
 "metadata": {
  "kernelspec": {
   "display_name": "Python 3 (ipykernel)",
   "language": "python",
   "name": "python3"
  },
  "language_info": {
   "codemirror_mode": {
    "name": "ipython",
    "version": 3
   },
   "file_extension": ".py",
   "mimetype": "text/x-python",
   "name": "python",
   "nbconvert_exporter": "python",
   "pygments_lexer": "ipython3",
   "version": "3.12.4"
  }
 },
 "nbformat": 4,
 "nbformat_minor": 5
}
